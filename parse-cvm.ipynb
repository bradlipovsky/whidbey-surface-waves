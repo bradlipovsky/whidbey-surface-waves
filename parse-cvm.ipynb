{
 "cells": [
  {
   "cell_type": "code",
   "execution_count": 1,
   "metadata": {},
   "outputs": [],
   "source": [
    "import pandas as pd\n",
    "import numpy as np"
   ]
  },
  {
   "cell_type": "code",
   "execution_count": 58,
   "metadata": {},
   "outputs": [],
   "source": [
    "\n",
    "data=pd.read_fwf('~/Downloads/casc1.6_velmdl.txt',\n",
    "                 colspec=((7,12),(19,25),(32,36),(40,43),(47,50)),\n",
    "                 nrows=4000000,\n",
    "                 header=None,\n",
    "                 engine='c'\n",
    "                )"
   ]
  },
  {
   "cell_type": "code",
   "execution_count": 87,
   "metadata": {},
   "outputs": [
    {
     "name": "stdout",
     "output_type": "stream",
     "text": [
      "minimum at: 537200, 5330800\n"
     ]
    }
   ],
   "source": [
    "x0,y0 = 537226, 5330716 # Camano Island State Park\n",
    "\n",
    "x=np.unique(np.array(data)[:,0])\n",
    "y=np.unique(np.array(data)[:,1])\n",
    "\n",
    "xx,yy=np.meshgrid(x,y)\n",
    "min_index = np.argmin( np.sqrt((xx-x0)**2 + (yy-y0)**2 ))\n",
    "xm = xx.flatten()[min_index]\n",
    "ym = yy.flatten()[min_index]\n",
    "print(f'minimum at: {xm}, {ym}')"
   ]
  },
  {
   "cell_type": "code",
   "execution_count": 60,
   "metadata": {},
   "outputs": [
    {
     "data": {
      "text/html": [
       "<div>\n",
       "<style scoped>\n",
       "    .dataframe tbody tr th:only-of-type {\n",
       "        vertical-align: middle;\n",
       "    }\n",
       "\n",
       "    .dataframe tbody tr th {\n",
       "        vertical-align: top;\n",
       "    }\n",
       "\n",
       "    .dataframe thead th {\n",
       "        text-align: right;\n",
       "    }\n",
       "</style>\n",
       "<table border=\"1\" class=\"dataframe\">\n",
       "  <thead>\n",
       "    <tr style=\"text-align: right;\">\n",
       "      <th></th>\n",
       "      <th>0</th>\n",
       "      <th>1</th>\n",
       "      <th>2</th>\n",
       "      <th>3</th>\n",
       "      <th>4</th>\n",
       "    </tr>\n",
       "  </thead>\n",
       "  <tbody>\n",
       "    <tr>\n",
       "      <th>2261739</th>\n",
       "      <td>537200</td>\n",
       "      <td>5330800</td>\n",
       "      <td>60000</td>\n",
       "      <td>8376</td>\n",
       "      <td>4766</td>\n",
       "    </tr>\n",
       "  </tbody>\n",
       "</table>\n",
       "</div>"
      ],
      "text/plain": [
       "              0        1      2     3     4\n",
       "2261739  537200  5330800  60000  8376  4766"
      ]
     },
     "execution_count": 60,
     "metadata": {},
     "output_type": "execute_result"
    }
   ],
   "source": [
    "data.loc[ (data[0]==xx.flatten()[min_index]) & (data[1]==yy.flatten()[min_index]) ]"
   ]
  },
  {
   "cell_type": "code",
   "execution_count": 64,
   "metadata": {},
   "outputs": [],
   "source": [
    "file1 = open('/Users/bradlipovsky/Downloads/casc1.6_velmdl.txt', 'r')"
   ]
  },
  {
   "cell_type": "code",
   "execution_count": 102,
   "metadata": {},
   "outputs": [],
   "source": [
    "import re\n",
    "p=[]\n",
    "s=[]\n",
    "z=[]\n",
    "for j,line in enumerate(file1):\n",
    "    listt = re.split('\\s+', line)\n",
    "    x,y,zz,pp,ss=[int(listt[i]) for i in range(1,len(listt)-1)]\n",
    "    if (x == xm) & (y==ym):\n",
    "        z.append(zz)\n",
    "        p.append(pp)\n",
    "        s.append(ss)\n",
    "p = np.array(p)\n",
    "s = np.array(s)\n",
    "z = np.array(z)"
   ]
  },
  {
   "cell_type": "code",
   "execution_count": 103,
   "metadata": {},
   "outputs": [
    {
     "data": {
      "text/plain": [
       "(array([7698, 7690, 7683, 7677, 7671, 7666, 7661, 7657, 7439, 7425, 7410,\n",
       "        7394, 7378, 7362, 7346, 7330, 7314, 7299, 7283, 7268, 7254, 7240,\n",
       "        7226, 7212, 7199, 7186, 7174, 7161, 7149, 7137, 7126, 7117, 7107,\n",
       "        7097, 7087, 7082, 7078, 7077, 7076, 7077, 7078, 6532, 6520, 6507,\n",
       "        6493, 6478, 6461, 6444, 6426, 6408, 6388, 6369, 6350, 6331, 6313,\n",
       "        6296, 6280, 6265, 6251, 6241, 6231, 6226, 6222, 6226, 6230, 6247,\n",
       "        6265, 6294, 6325, 6360, 6398, 6436, 6473, 6508, 6539, 6564, 6574,\n",
       "        6587, 6613, 6639, 6599, 6557, 6479, 6394, 6384, 6409, 6410, 6390,\n",
       "        6344, 6260, 6189, 6156, 6124, 6097, 6070, 6068, 6067, 6058, 6047,\n",
       "        5893, 5675, 5387, 5040, 4368, 3889, 3449, 3180, 2925, 2814, 1524]),\n",
       " array([4500, 4495, 4490, 4484, 4478, 4471, 4464, 4457, 4258, 4250, 4242,\n",
       "        4234, 4226, 4218, 4209, 4201, 4193, 4185, 4176, 4168, 4160, 4153,\n",
       "        4145, 4137, 4129, 4121, 4114, 4106, 4099, 4092, 4086, 4081, 4076,\n",
       "        4071, 4066, 4064, 4062, 4062, 4062, 4063, 4063, 3803, 3797, 3790,\n",
       "        3783, 3775, 3767, 3758, 3749, 3740, 3730, 3721, 3711, 3702, 3693,\n",
       "        3684, 3676, 3668, 3662, 3656, 3651, 3647, 3645, 3645, 3646, 3654,\n",
       "        3662, 3676, 3691, 3708, 3725, 3743, 3760, 3776, 3790, 3801, 3805,\n",
       "        3811, 3822, 3834, 3816, 3798, 3763, 3726, 3722, 3733, 3733, 3724,\n",
       "        3703, 3666, 3635, 3619, 3604, 3592, 3580, 3580, 3579, 3577, 3573,\n",
       "        3494, 3380, 3220, 3021, 2184, 1945, 1725, 1590, 1463, 1407,  609]),\n",
       " array([54500, 54000, 53500, 53000, 52500, 52000, 51500, 51000, 50500,\n",
       "        50000, 49500, 49000, 48500, 48000, 47500, 47000, 46500, 46000,\n",
       "        45500, 45000, 44500, 44000, 43500, 43000, 42500, 42000, 41500,\n",
       "        41000, 40500, 40000, 39500, 39000, 38500, 38000, 37500, 37000,\n",
       "        36500, 36000, 35500, 35000, 34500, 34000, 33500, 33000, 32500,\n",
       "        32000, 31500, 31000, 30500, 30000, 29500, 29000, 28500, 28000,\n",
       "        27500, 27000, 26500, 26000, 25500, 25000, 24500, 24000, 23500,\n",
       "        23000, 22500, 22000, 21500, 21000, 20500, 20000, 19500, 19000,\n",
       "        18500, 18000, 17500, 17000, 16500, 16000, 15500, 15000, 14500,\n",
       "        14000, 13500, 13000, 12500, 12000, 11500, 11000, 10500, 10000,\n",
       "         9500,  9000,  8500,  8000,  7500,  7000,  6500,  6000,  5500,\n",
       "         5000,  4500,  4000,  3500,  3000,  2500,  2000,  1500,  1000,\n",
       "          500,     0]))"
      ]
     },
     "execution_count": 103,
     "metadata": {},
     "output_type": "execute_result"
    }
   ],
   "source": [
    "p,s,z"
   ]
  },
  {
   "cell_type": "code",
   "execution_count": 126,
   "metadata": {},
   "outputs": [
    {
     "data": {
      "image/png": "[encoded data removed]",
      "text/plain": [
       "<Figure size 360x720 with 1 Axes>"
      ]
     },
     "metadata": {},
     "output_type": "display_data"
    }
   ],
   "source": [
    "import matplotlib.pyplot as plt\n",
    "fig,ax=plt.subplots(figsize=(5,10))\n",
    "fig.patch.set_facecolor('w')\n",
    "plt.plot(s,-z/1e3)\n",
    "plt.plot(p,-z/1e3)\n",
    "plt.grid()\n",
    "plt.show()"
   ]
  },
  {
   "cell_type": "code",
   "execution_count": 123,
   "metadata": {},
   "outputs": [
    {
     "data": {
      "text/plain": [
       "array([    0,   500,  1000,  1500,  2000,  2500,  3000,  3500,  4000,\n",
       "        4500,  5000,  5500,  6000,  6500,  7000,  7500,  8000,  8500,\n",
       "        9000,  9500, 10000, 10500, 11000, 11500, 12000, 12500, 13000,\n",
       "       13500, 14000, 14500, 15000, 15500, 16000, 16500, 17000, 17500,\n",
       "       18000, 18500, 19000, 19500, 20000, 20500, 21000, 21500, 22000,\n",
       "       22500, 23000, 23500, 24000, 24500, 25000, 25500, 26000, 26500,\n",
       "       27000, 27500, 28000, 28500, 29000, 29500, 30000, 30500, 31000,\n",
       "       31500, 32000, 32500, 33000, 33500, 34000, 34500, 35000, 35500,\n",
       "       36000, 36500, 37000, 37500, 38000, 38500, 39000, 39500, 40000,\n",
       "       40500, 41000, 41500, 42000, 42500, 43000, 43500, 44000, 44500,\n",
       "       45000, 45500, 46000, 46500, 47000, 47500, 48000, 48500, 49000,\n",
       "       49500, 50000, 50500, 51000, 51500, 52000, 52500, 53000, 53500,\n",
       "       54000, 54500])"
      ]
     },
     "execution_count": 123,
     "metadata": {},
     "output_type": "execute_result"
    }
   ],
   "source": [
    "z[::-1]"
   ]
  },
  {
   "cell_type": "code",
   "execution_count": null,
   "metadata": {},
   "outputs": [],
   "source": []
  }
 ],
 "metadata": {
  "kernelspec": {
   "display_name": "Python 3 (ipykernel)",
   "language": "python",
   "name": "python3"
  },
  "language_info": {
   "codemirror_mode": {
    "name": "ipython",
    "version": 3
   },
   "file_extension": ".py",
   "mimetype": "text/x-python",
   "name": "python",
   "nbconvert_exporter": "python",
   "pygments_lexer": "ipython3",
   "version": "3.10.1"
  }
 },
 "nbformat": 4,
 "nbformat_minor": 4
}
