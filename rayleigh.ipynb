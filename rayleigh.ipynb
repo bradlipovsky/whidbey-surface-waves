{
 "cells": [
  {
   "cell_type": "code",
   "execution_count": 35,
   "metadata": {},
   "outputs": [],
   "source": [
    "from sympy import symbols, exp,diff, solve, zeros, Determinant, I"
   ]
  },
  {
   "cell_type": "code",
   "execution_count": 36,
   "metadata": {},
   "outputs": [],
   "source": [
    "k, y, alpha_w,alpha_s,beta_s = symbols('k y alpha_w alpha_s beta_s')\n",
    "c1, c2, c3, c4, c5, c6 = symbols('c1 c2 c3 c4 c5 c6')\n",
    "lambda_w, lambda_s, mu_s, mu_w = symbols('lambda_w lambda_s mu_s mu_w')\n",
    "H_w, H_s = symbols('H_w H_s')"
   ]
  },
  {
   "cell_type": "code",
   "execution_count": 78,
   "metadata": {},
   "outputs": [],
   "source": [
    "phi_w  = c1*exp(-alpha_w*k*y) + c2*exp(alpha_w*k*y)\n",
    "phi_s  = c3*exp(-alpha_s*k*y) + c4*exp(alpha_s*k*y)\n",
    "psi_s  = c5*exp(-beta_s*k*y)  + c6*exp(beta_s*k*y)"
   ]
  },
  {
   "cell_type": "code",
   "execution_count": 79,
   "metadata": {},
   "outputs": [],
   "source": [
    "ux_w = -I*k*phi_w\n",
    "uy_w = diff(phi_w,y)\n",
    "ux_s = -I*k*phi_s + diff(psi_s,y)\n",
    "uy_s = diff(phi_s,y) + I*k*psi_s"
   ]
  },
  {
   "cell_type": "code",
   "execution_count": 80,
   "metadata": {},
   "outputs": [],
   "source": [
    "tauyy_w = lambda_w*( (-I*k)*ux_w + diff(uy_w,y))\n",
    "tauxy_w = mu_w*(diff(ux_w,y) - I*k*uy_w)"
   ]
  },
  {
   "cell_type": "code",
   "execution_count": 81,
   "metadata": {},
   "outputs": [],
   "source": [
    "eqn=[]\n",
    "eqn.append( ux_s.subs(y,H_s) ) \n",
    "eqn.append( uy_s.subs(y,H_s) )\n",
    "eqn.append( ux_s.subs(y,H_w) - ux_w.subs(y,H_w) )\n",
    "eqn.append( uy_s.subs(y,H_w) - uy_w.subs(y,H_w) )\n",
    "eqn.append( tauyy_w.subs(y,0) )\n",
    "eqn.append( tauxy_w.subs(y,0) )"
   ]
  },
  {
   "cell_type": "code",
   "execution_count": 82,
   "metadata": {},
   "outputs": [],
   "source": [
    "C = zeros(6, 6)\n",
    "for i in range(6):\n",
    "    for j,s in enumerate(('100000','010000','001000','000100','000010','000001')):\n",
    "        C[i,j]= eqn[i].subs(c1,s[0]).subs(c2,s[1]).subs(c3,s[2])\\\n",
    "                        .subs(c4,s[3]).subs(c5,s[4]).subs(c6,s[5])"
   ]
  },
  {
   "cell_type": "code",
   "execution_count": 83,
   "metadata": {},
   "outputs": [
    {
     "data": {
      "text/latex": [
       "$\\displaystyle \\left[\\begin{matrix}0 & 0 & - i k e^{- H_{s} \\alpha_{s} k} & - i k e^{H_{s} \\alpha_{s} k} & - \\beta_{s} k e^{- H_{s} \\beta_{s} k} & \\beta_{s} k e^{H_{s} \\beta_{s} k}\\\\0 & 0 & - \\alpha_{s} k e^{- H_{s} \\alpha_{s} k} & \\alpha_{s} k e^{H_{s} \\alpha_{s} k} & i k e^{- H_{s} \\beta_{s} k} & i k e^{H_{s} \\beta_{s} k}\\\\i k e^{- H_{w} \\alpha_{w} k} & i k e^{H_{w} \\alpha_{w} k} & - i k e^{- H_{w} \\alpha_{s} k} & - i k e^{H_{w} \\alpha_{s} k} & - \\beta_{s} k e^{- H_{w} \\beta_{s} k} & \\beta_{s} k e^{H_{w} \\beta_{s} k}\\\\\\alpha_{w} k e^{- H_{w} \\alpha_{w} k} & - \\alpha_{w} k e^{H_{w} \\alpha_{w} k} & - \\alpha_{s} k e^{- H_{w} \\alpha_{s} k} & \\alpha_{s} k e^{H_{w} \\alpha_{s} k} & i k e^{- H_{w} \\beta_{s} k} & i k e^{H_{w} \\beta_{s} k}\\\\\\lambda_{w} \\left(\\alpha_{w}^{2} k^{2} - k^{2}\\right) & \\lambda_{w} \\left(\\alpha_{w}^{2} k^{2} - k^{2}\\right) & 0 & 0 & 0 & 0\\\\2 i \\alpha_{w} k^{2} \\mu_{w} & - 2 i \\alpha_{w} k^{2} \\mu_{w} & 0 & 0 & 0 & 0\\end{matrix}\\right]$"
      ],
      "text/plain": [
       "Matrix([\n",
       "[                                0,                                 0,       -I*k*exp(-H_s*alpha_s*k),      -I*k*exp(H_s*alpha_s*k), -beta_s*k*exp(-H_s*beta_s*k), beta_s*k*exp(H_s*beta_s*k)],\n",
       "[                                0,                                 0, -alpha_s*k*exp(-H_s*alpha_s*k), alpha_s*k*exp(H_s*alpha_s*k),       I*k*exp(-H_s*beta_s*k),      I*k*exp(H_s*beta_s*k)],\n",
       "[          I*k*exp(-H_w*alpha_w*k),            I*k*exp(H_w*alpha_w*k),       -I*k*exp(-H_w*alpha_s*k),      -I*k*exp(H_w*alpha_s*k), -beta_s*k*exp(-H_w*beta_s*k), beta_s*k*exp(H_w*beta_s*k)],\n",
       "[    alpha_w*k*exp(-H_w*alpha_w*k),     -alpha_w*k*exp(H_w*alpha_w*k), -alpha_s*k*exp(-H_w*alpha_s*k), alpha_s*k*exp(H_w*alpha_s*k),       I*k*exp(-H_w*beta_s*k),      I*k*exp(H_w*beta_s*k)],\n",
       "[lambda_w*(alpha_w**2*k**2 - k**2), lambda_w*(alpha_w**2*k**2 - k**2),                              0,                            0,                            0,                          0],\n",
       "[            2*I*alpha_w*k**2*mu_w,            -2*I*alpha_w*k**2*mu_w,                              0,                            0,                            0,                          0]])"
      ]
     },
     "execution_count": 83,
     "metadata": {},
     "output_type": "execute_result"
    }
   ],
   "source": [
    "C"
   ]
  },
  {
   "cell_type": "code",
   "execution_count": 84,
   "metadata": {},
   "outputs": [],
   "source": [
    "C[4,:] = C.row(4)/ C[4,0]\n",
    "C[5,:] = C.row(5)/ C[5,0]"
   ]
  },
  {
   "cell_type": "code",
   "execution_count": 85,
   "metadata": {},
   "outputs": [
    {
     "data": {
      "text/latex": [
       "$\\displaystyle \\left[\\begin{matrix}0 & 0 & - i k e^{- H_{s} \\alpha_{s} k} & - i k e^{H_{s} \\alpha_{s} k} & - \\beta_{s} k e^{- H_{s} \\beta_{s} k} & \\beta_{s} k e^{H_{s} \\beta_{s} k}\\\\0 & 0 & - \\alpha_{s} k e^{- H_{s} \\alpha_{s} k} & \\alpha_{s} k e^{H_{s} \\alpha_{s} k} & i k e^{- H_{s} \\beta_{s} k} & i k e^{H_{s} \\beta_{s} k}\\\\i k e^{- H_{w} \\alpha_{w} k} & i k e^{H_{w} \\alpha_{w} k} & - i k e^{- H_{w} \\alpha_{s} k} & - i k e^{H_{w} \\alpha_{s} k} & - \\beta_{s} k e^{- H_{w} \\beta_{s} k} & \\beta_{s} k e^{H_{w} \\beta_{s} k}\\\\\\alpha_{w} k e^{- H_{w} \\alpha_{w} k} & - \\alpha_{w} k e^{H_{w} \\alpha_{w} k} & - \\alpha_{s} k e^{- H_{w} \\alpha_{s} k} & \\alpha_{s} k e^{H_{w} \\alpha_{s} k} & i k e^{- H_{w} \\beta_{s} k} & i k e^{H_{w} \\beta_{s} k}\\\\1 & 1 & 0 & 0 & 0 & 0\\\\1 & -1 & 0 & 0 & 0 & 0\\end{matrix}\\right]$"
      ],
      "text/plain": [
       "Matrix([\n",
       "[                            0,                             0,       -I*k*exp(-H_s*alpha_s*k),      -I*k*exp(H_s*alpha_s*k), -beta_s*k*exp(-H_s*beta_s*k), beta_s*k*exp(H_s*beta_s*k)],\n",
       "[                            0,                             0, -alpha_s*k*exp(-H_s*alpha_s*k), alpha_s*k*exp(H_s*alpha_s*k),       I*k*exp(-H_s*beta_s*k),      I*k*exp(H_s*beta_s*k)],\n",
       "[      I*k*exp(-H_w*alpha_w*k),        I*k*exp(H_w*alpha_w*k),       -I*k*exp(-H_w*alpha_s*k),      -I*k*exp(H_w*alpha_s*k), -beta_s*k*exp(-H_w*beta_s*k), beta_s*k*exp(H_w*beta_s*k)],\n",
       "[alpha_w*k*exp(-H_w*alpha_w*k), -alpha_w*k*exp(H_w*alpha_w*k), -alpha_s*k*exp(-H_w*alpha_s*k), alpha_s*k*exp(H_w*alpha_s*k),       I*k*exp(-H_w*beta_s*k),      I*k*exp(H_w*beta_s*k)],\n",
       "[                            1,                             1,                              0,                            0,                            0,                          0],\n",
       "[                            1,                            -1,                              0,                            0,                            0,                          0]])"
      ]
     },
     "execution_count": 85,
     "metadata": {},
     "output_type": "execute_result"
    }
   ],
   "source": [
    "C"
   ]
  },
  {
   "cell_type": "code",
   "execution_count": 312,
   "metadata": {},
   "outputs": [
    {
     "data": {
      "text/latex": [
       "$\\displaystyle 2 \\alpha_{s}^{2} \\beta_{s}^{2} k^{4} e^{H_{s} \\alpha_{s} k} e^{H_{s} \\beta_{s} k} e^{- H_{w} \\alpha_{s} k} e^{- H_{w} \\beta_{s} k} - 2 \\alpha_{s}^{2} \\beta_{s}^{2} k^{4} e^{H_{s} \\alpha_{s} k} e^{- H_{s} \\beta_{s} k} e^{- H_{w} \\alpha_{s} k} e^{H_{w} \\beta_{s} k} - 2 \\alpha_{s}^{2} \\beta_{s}^{2} k^{4} e^{- H_{s} \\alpha_{s} k} e^{H_{s} \\beta_{s} k} e^{H_{w} \\alpha_{s} k} e^{- H_{w} \\beta_{s} k} + 2 \\alpha_{s}^{2} \\beta_{s}^{2} k^{4} e^{- H_{s} \\alpha_{s} k} e^{- H_{s} \\beta_{s} k} e^{H_{w} \\alpha_{s} k} e^{H_{w} \\beta_{s} k} - 4 \\alpha_{s} \\beta_{s} k^{4} e^{H_{s} \\alpha_{s} k} e^{H_{s} \\beta_{s} k} e^{- H_{w} \\alpha_{s} k} e^{- H_{w} \\beta_{s} k} - 4 \\alpha_{s} \\beta_{s} k^{4} e^{H_{s} \\alpha_{s} k} e^{- H_{s} \\beta_{s} k} e^{- H_{w} \\alpha_{s} k} e^{H_{w} \\beta_{s} k} + 16 \\alpha_{s} \\beta_{s} k^{4} - 4 \\alpha_{s} \\beta_{s} k^{4} e^{- H_{s} \\alpha_{s} k} e^{H_{s} \\beta_{s} k} e^{H_{w} \\alpha_{s} k} e^{- H_{w} \\beta_{s} k} - 4 \\alpha_{s} \\beta_{s} k^{4} e^{- H_{s} \\alpha_{s} k} e^{- H_{s} \\beta_{s} k} e^{H_{w} \\alpha_{s} k} e^{H_{w} \\beta_{s} k} + 2 k^{4} e^{H_{s} \\alpha_{s} k} e^{H_{s} \\beta_{s} k} e^{- H_{w} \\alpha_{s} k} e^{- H_{w} \\beta_{s} k} - 2 k^{4} e^{H_{s} \\alpha_{s} k} e^{- H_{s} \\beta_{s} k} e^{- H_{w} \\alpha_{s} k} e^{H_{w} \\beta_{s} k} - 2 k^{4} e^{- H_{s} \\alpha_{s} k} e^{H_{s} \\beta_{s} k} e^{H_{w} \\alpha_{s} k} e^{- H_{w} \\beta_{s} k} + 2 k^{4} e^{- H_{s} \\alpha_{s} k} e^{- H_{s} \\beta_{s} k} e^{H_{w} \\alpha_{s} k} e^{H_{w} \\beta_{s} k}$"
      ],
      "text/plain": [
       "2*alpha_s**2*beta_s**2*k**4*exp(H_s*alpha_s*k)*exp(H_s*beta_s*k)*exp(-H_w*alpha_s*k)*exp(-H_w*beta_s*k) - 2*alpha_s**2*beta_s**2*k**4*exp(H_s*alpha_s*k)*exp(-H_s*beta_s*k)*exp(-H_w*alpha_s*k)*exp(H_w*beta_s*k) - 2*alpha_s**2*beta_s**2*k**4*exp(-H_s*alpha_s*k)*exp(H_s*beta_s*k)*exp(H_w*alpha_s*k)*exp(-H_w*beta_s*k) + 2*alpha_s**2*beta_s**2*k**4*exp(-H_s*alpha_s*k)*exp(-H_s*beta_s*k)*exp(H_w*alpha_s*k)*exp(H_w*beta_s*k) - 4*alpha_s*beta_s*k**4*exp(H_s*alpha_s*k)*exp(H_s*beta_s*k)*exp(-H_w*alpha_s*k)*exp(-H_w*beta_s*k) - 4*alpha_s*beta_s*k**4*exp(H_s*alpha_s*k)*exp(-H_s*beta_s*k)*exp(-H_w*alpha_s*k)*exp(H_w*beta_s*k) + 16*alpha_s*beta_s*k**4 - 4*alpha_s*beta_s*k**4*exp(-H_s*alpha_s*k)*exp(H_s*beta_s*k)*exp(H_w*alpha_s*k)*exp(-H_w*beta_s*k) - 4*alpha_s*beta_s*k**4*exp(-H_s*alpha_s*k)*exp(-H_s*beta_s*k)*exp(H_w*alpha_s*k)*exp(H_w*beta_s*k) + 2*k**4*exp(H_s*alpha_s*k)*exp(H_s*beta_s*k)*exp(-H_w*alpha_s*k)*exp(-H_w*beta_s*k) - 2*k**4*exp(H_s*alpha_s*k)*exp(-H_s*beta_s*k)*exp(-H_w*alpha_s*k)*exp(H_w*beta_s*k) - 2*k**4*exp(-H_s*alpha_s*k)*exp(H_s*beta_s*k)*exp(H_w*alpha_s*k)*exp(-H_w*beta_s*k) + 2*k**4*exp(-H_s*alpha_s*k)*exp(-H_s*beta_s*k)*exp(H_w*alpha_s*k)*exp(H_w*beta_s*k)"
      ]
     },
     "execution_count": 312,
     "metadata": {},
     "output_type": "execute_result"
    }
   ],
   "source": [
    "characteristic = C.det()\n",
    "characteristic"
   ]
  },
  {
   "cell_type": "code",
   "execution_count": 87,
   "metadata": {},
   "outputs": [
    {
     "data": {
      "text/latex": [
       "$\\displaystyle 2 k^{4} \\left(\\beta_{s} e^{H_{s} k} e^{H_{s} \\beta_{s} k} - \\beta_{s} e^{H_{s} k} e^{H_{w} \\beta_{s} k} + \\beta_{s} e^{H_{w} k} e^{H_{s} \\beta_{s} k} - \\beta_{s} e^{H_{w} k} e^{H_{w} \\beta_{s} k} - e^{H_{s} k} e^{H_{s} \\beta_{s} k} - e^{H_{s} k} e^{H_{w} \\beta_{s} k} + e^{H_{w} k} e^{H_{s} \\beta_{s} k} + e^{H_{w} k} e^{H_{w} \\beta_{s} k}\\right) \\left(\\beta_{s} e^{H_{s} k} e^{H_{s} \\beta_{s} k} + \\beta_{s} e^{H_{s} k} e^{H_{w} \\beta_{s} k} - \\beta_{s} e^{H_{w} k} e^{H_{s} \\beta_{s} k} - \\beta_{s} e^{H_{w} k} e^{H_{w} \\beta_{s} k} - e^{H_{s} k} e^{H_{s} \\beta_{s} k} + e^{H_{s} k} e^{H_{w} \\beta_{s} k} - e^{H_{w} k} e^{H_{s} \\beta_{s} k} + e^{H_{w} k} e^{H_{w} \\beta_{s} k}\\right) e^{- H_{s} k} e^{- H_{w} k} e^{- H_{s} \\beta_{s} k} e^{- H_{w} \\beta_{s} k}$"
      ],
      "text/plain": [
       "2*k**4*(beta_s*exp(H_s*k)*exp(H_s*beta_s*k) - beta_s*exp(H_s*k)*exp(H_w*beta_s*k) + beta_s*exp(H_w*k)*exp(H_s*beta_s*k) - beta_s*exp(H_w*k)*exp(H_w*beta_s*k) - exp(H_s*k)*exp(H_s*beta_s*k) - exp(H_s*k)*exp(H_w*beta_s*k) + exp(H_w*k)*exp(H_s*beta_s*k) + exp(H_w*k)*exp(H_w*beta_s*k))*(beta_s*exp(H_s*k)*exp(H_s*beta_s*k) + beta_s*exp(H_s*k)*exp(H_w*beta_s*k) - beta_s*exp(H_w*k)*exp(H_s*beta_s*k) - beta_s*exp(H_w*k)*exp(H_w*beta_s*k) - exp(H_s*k)*exp(H_s*beta_s*k) + exp(H_s*k)*exp(H_w*beta_s*k) - exp(H_w*k)*exp(H_s*beta_s*k) + exp(H_w*k)*exp(H_w*beta_s*k))*exp(-H_s*k)*exp(-H_w*k)*exp(-H_s*beta_s*k)*exp(-H_w*beta_s*k)"
      ]
     },
     "execution_count": 87,
     "metadata": {},
     "output_type": "execute_result"
    }
   ],
   "source": [
    "characteristic_simplified = characteristic.subs(alpha_s,1).subs(alpha_w,1).factor()\n",
    "characteristic_simplified"
   ]
  },
  {
   "cell_type": "code",
   "execution_count": 206,
   "metadata": {},
   "outputs": [
    {
     "name": "stdout",
     "output_type": "stream",
     "text": [
      "bet_s = 0.5527707983925666\n",
      "alph_s = 0.9996874511566103\n",
      "alph_w = 0.9994442900376633\n"
     ]
    }
   ],
   "source": [
    "import numpy as np\n",
    "c = 50\n",
    "cs = 60\n",
    "cp = 2000\n",
    "cw = 1500\n",
    "\n",
    "bet_s = np.sqrt(1 - (c/cs)**2)\n",
    "alph_s = np.sqrt(1 - (c/cp)**2)\n",
    "alph_w = np.sqrt(1 - (c/cw)**2)\n",
    "\n",
    "print(f'bet_s = {bet_s}')\n",
    "print(f'alph_s = {alph_s}')\n",
    "print(f'alph_w = {alph_w}')"
   ]
  },
  {
   "cell_type": "code",
   "execution_count": null,
   "metadata": {},
   "outputs": [],
   "source": [
    "\n"
   ]
  },
  {
   "cell_type": "code",
   "execution_count": 88,
   "metadata": {},
   "outputs": [
    {
     "name": "stdout",
     "output_type": "stream",
     "text": [
      "2*k**4*(beta_s*exp(H_s*k)*exp(H_s*beta_s*k) - beta_s*exp(H_s*k)*exp(H_w*beta_s*k) + beta_s*exp(H_w*k)*exp(H_s*beta_s*k) - beta_s*exp(H_w*k)*exp(H_w*beta_s*k) - exp(H_s*k)*exp(H_s*beta_s*k) - exp(H_s*k)*exp(H_w*beta_s*k) + exp(H_w*k)*exp(H_s*beta_s*k) + exp(H_w*k)*exp(H_w*beta_s*k))*(beta_s*exp(H_s*k)*exp(H_s*beta_s*k) + beta_s*exp(H_s*k)*exp(H_w*beta_s*k) - beta_s*exp(H_w*k)*exp(H_s*beta_s*k) - beta_s*exp(H_w*k)*exp(H_w*beta_s*k) - exp(H_s*k)*exp(H_s*beta_s*k) + exp(H_s*k)*exp(H_w*beta_s*k) - exp(H_w*k)*exp(H_s*beta_s*k) + exp(H_w*k)*exp(H_w*beta_s*k))*exp(-H_s*k)*exp(-H_w*k)*exp(-H_s*beta_s*k)*exp(-H_w*beta_s*k)\n"
     ]
    }
   ],
   "source": [
    "print(characteristic_simplified)"
   ]
  },
  {
   "cell_type": "code",
   "execution_count": 89,
   "metadata": {},
   "outputs": [],
   "source": [
    "mode1=(beta_s*exp(H_s*k)*exp(H_s*beta_s*k) - beta_s*exp(H_s*k)*exp(H_w*beta_s*k) + beta_s*exp(H_w*k)*exp(H_s*beta_s*k) - beta_s*exp(H_w*k)*exp(H_w*beta_s*k) - exp(H_s*k)*exp(H_s*beta_s*k) - exp(H_s*k)*exp(H_w*beta_s*k) + exp(H_w*k)*exp(H_s*beta_s*k) + exp(H_w*k)*exp(H_w*beta_s*k))\n",
    "mode2=(beta_s*exp(H_s*k)*exp(H_s*beta_s*k) + beta_s*exp(H_s*k)*exp(H_w*beta_s*k) - beta_s*exp(H_w*k)*exp(H_s*beta_s*k) - beta_s*exp(H_w*k)*exp(H_w*beta_s*k) - exp(H_s*k)*exp(H_s*beta_s*k) + exp(H_s*k)*exp(H_w*beta_s*k) - exp(H_w*k)*exp(H_s*beta_s*k) + exp(H_w*k)*exp(H_w*beta_s*k))"
   ]
  },
  {
   "cell_type": "code",
   "execution_count": 179,
   "metadata": {},
   "outputs": [
    {
     "name": "stdout",
     "output_type": "stream",
     "text": [
      "beta_s*exp(H_s*k)*exp(H_s*beta_s*k) - beta_s*exp(H_s*k)*exp(H_w*beta_s*k) + beta_s*exp(H_w*k)*exp(H_s*beta_s*k) - beta_s*exp(H_w*k)*exp(H_w*beta_s*k) - exp(H_s*k)*exp(H_s*beta_s*k) - exp(H_s*k)*exp(H_w*beta_s*k) + exp(H_w*k)*exp(H_s*beta_s*k) + exp(H_w*k)*exp(H_w*beta_s*k)\n",
      "beta_s*exp(H_s*k)*exp(H_s*beta_s*k) + beta_s*exp(H_s*k)*exp(H_w*beta_s*k) - beta_s*exp(H_w*k)*exp(H_s*beta_s*k) - beta_s*exp(H_w*k)*exp(H_w*beta_s*k) - exp(H_s*k)*exp(H_s*beta_s*k) + exp(H_s*k)*exp(H_w*beta_s*k) - exp(H_w*k)*exp(H_s*beta_s*k) + exp(H_w*k)*exp(H_w*beta_s*k)\n"
     ]
    }
   ],
   "source": [
    "print(mode1)\n",
    "print(mode2)"
   ]
  },
  {
   "cell_type": "code",
   "execution_count": 92,
   "metadata": {},
   "outputs": [
    {
     "data": {
      "text/latex": [
       "$\\displaystyle \\beta_{s} e^{H_{s} k} e^{H_{s} \\beta_{s} k} - \\beta_{s} e^{H_{s} k} e^{H_{w} \\beta_{s} k} + \\beta_{s} e^{H_{w} k} e^{H_{s} \\beta_{s} k} - \\beta_{s} e^{H_{w} k} e^{H_{w} \\beta_{s} k} - e^{H_{s} k} e^{H_{s} \\beta_{s} k} - e^{H_{s} k} e^{H_{w} \\beta_{s} k} + e^{H_{w} k} e^{H_{s} \\beta_{s} k} + e^{H_{w} k} e^{H_{w} \\beta_{s} k}$"
      ],
      "text/plain": [
       "beta_s*exp(H_s*k)*exp(H_s*beta_s*k) - beta_s*exp(H_s*k)*exp(H_w*beta_s*k) + beta_s*exp(H_w*k)*exp(H_s*beta_s*k) - beta_s*exp(H_w*k)*exp(H_w*beta_s*k) - exp(H_s*k)*exp(H_s*beta_s*k) - exp(H_s*k)*exp(H_w*beta_s*k) + exp(H_w*k)*exp(H_s*beta_s*k) + exp(H_w*k)*exp(H_w*beta_s*k)"
      ]
     },
     "execution_count": 92,
     "metadata": {},
     "output_type": "execute_result"
    }
   ],
   "source": [
    "mode1"
   ]
  },
  {
   "cell_type": "code",
   "execution_count": 302,
   "metadata": {},
   "outputs": [
    {
     "name": "stdout",
     "output_type": "stream",
     "text": [
      "{98.15203250201351}\n"
     ]
    },
    {
     "data": {
      "image/png": "[encoded data removed]",
      "text/plain": [
       "<Figure size 432x288 with 1 Axes>"
      ]
     },
     "metadata": {},
     "output_type": "display_data"
    }
   ],
   "source": [
    "def mode_one(omega = 1,cs=60,hs=150,hw=100,kk=0.01):\n",
    "    \n",
    "    bs = np.sqrt(1 - (omega/cs/kk)**2 + 0j)\n",
    "    t1 = + bs*np.exp(hs*kk)*np.exp(hs*bs*kk) \n",
    "    t2 = - bs*np.exp(hs*kk)*np.exp(hw*bs*kk) \n",
    "    t3 =    + bs*np.exp(hw*kk)*np.exp(hs*bs*kk) \n",
    "    t4 =    - bs*np.exp(hw*kk)*np.exp(hw*bs*kk) \n",
    "    t5 =    - np.exp(hs*kk)*np.exp(hs*bs*kk) \n",
    "    t6 =    - np.exp(hs*kk)*np.exp(hw*bs*kk) \n",
    "    t7 =    + np.exp(hw*kk)*np.exp(hs*bs*kk) \n",
    "    t8 =    + np.exp(hw*kk)*np.exp(hw*bs*kk)\n",
    "    val = t1 + t2 + t3 + t4 + t5 + t6 + t7 + t8\n",
    "    return val, [t1,t2,t3,t4,t5,t6,t7,t8,bs]\n",
    "\n",
    "def mode_two(omega = 1,cs=100,hs=150,hw=100,kk=0.01):\n",
    "    \n",
    "    bs = np.sqrt(1 - (omega/cs/kk)**2 + 0j)\n",
    "\n",
    "    t1 = + bs*np.exp(hs*kk)*np.exp(hs*bs*kk) \n",
    "    t2 = + bs*np.exp(hs*kk)*np.exp(hw*bs*kk) \n",
    "    t3 = - bs*np.exp(hw*kk)*np.exp(hs*bs*kk) \n",
    "    t4 = - bs*np.exp(hw*kk)*np.exp(hw*bs*kk) \n",
    "    t5 = - np.exp(hs*kk)*np.exp(hs*bs*kk) \n",
    "    t6 = + np.exp(hs*kk)*np.exp(hw*bs*kk) \n",
    "    t7 = - np.exp(hw*kk)*np.exp(hs*bs*kk) \n",
    "    t8 = + np.exp(hw*kk)*np.exp(hw*bs*kk)\n",
    "    val = t1 + t2 + t3 + t4 + t5 + t6 + t7 + t8\n",
    "    return val, [t1,t2,t3,t4,t5,t6,t7,t8,bs]\n",
    "\n",
    "da1=[]\n",
    "da2=[]\n",
    "\n",
    "ks = np.logspace(-5,-1,100)\n",
    "om = 0.5\n",
    "for l in ks:\n",
    "    v1,l1 = mode_one(kk=l,omega=om)\n",
    "    v2,l2 = mode_two(kk=l,omega=om)\n",
    "    da1.append(v1)\n",
    "    da2.append(v2)\n",
    "da1 = np.array(da1) \n",
    "da2 = np.array(da2) \n",
    "\n",
    "min_ind = np.argmin(np.abs(da2))\n",
    "\n",
    "import matplotlib.pyplot as plt\n",
    "fig,ax=plt.subplots()\n",
    "fig.patch.set_facecolor('w')\n",
    "plt.plot(ks[da1>0], np.abs(da1[da1>0]) )\n",
    "plt.plot(ks[da1<0], np.abs(da1[da1<0]),'--' )\n",
    "plt.plot(ks[da2>0], np.abs(da2[da2>0]) )\n",
    "plt.plot(ks[da2<0], np.abs(da2[da2<0]),'--' )\n",
    "plt.plot(ks[min_ind],np.abs(da2[min_ind]),'o')\n",
    "plt.yscale('log')\n",
    "plt.xscale('log')\n",
    "print({om/ks[min_ind]})"
   ]
  },
  {
   "cell_type": "code",
   "execution_count": 308,
   "metadata": {},
   "outputs": [
    {
     "data": {
      "text/plain": [
       "(0.0, 1.5)"
      ]
     },
     "execution_count": 308,
     "metadata": {},
     "output_type": "execute_result"
    },
    {
     "data": {
      "image/png": "[encoded data removed]",
      "text/plain": [
       "<Figure size 432x288 with 1 Axes>"
      ]
     },
     "metadata": {},
     "output_type": "display_data"
    }
   ],
   "source": [
    "ksol=[]\n",
    "oms = np.linspace(0.01,1.2,10)\n",
    "ks = np.logspace(-5,-1,100)\n",
    "for om in oms:\n",
    "    da2=[]\n",
    "    for l in ks:\n",
    "        v2,l2 = mode_two(omega = om,\n",
    "                         cs=50,\n",
    "                         hs=150,\n",
    "                         hw=100,\n",
    "                         kk=l)\n",
    "        da2.append(v2)\n",
    "    da2 = np.array(da2) \n",
    "    min_ind = np.argmin(np.abs(da2))\n",
    "    ksol.append(ks[min_ind])\n",
    "\n",
    "fig,ax=plt.subplots()\n",
    "fig.patch.set_facecolor('w')\n",
    "plt.plot(ksol,oms,'-o')\n",
    "plt.ylim([0,1.5])"
   ]
  },
  {
   "cell_type": "code",
   "execution_count": 253,
   "metadata": {},
   "outputs": [],
   "source": [
    "da=[]\n",
    "ks = np.logspace(-10,-1,100)\n",
    "for l in ks:\n",
    "    omega = 1\n",
    "    c = omega/l\n",
    "    cs = 100\n",
    "    cp = 1000\n",
    "    cw = 1500\n",
    "    bet_s = np.sqrt(1 - (c/cs)**2 + 0j)\n",
    "    alph_s = np.sqrt(1 - (c/cp)**2 + 0j)\n",
    "    alph_w = np.sqrt(1 - (c/cw)**2 + 0j)\n",
    "    val = characteristic.subs(alpha_s,alph_s).subs(alpha_w,alph_w).subs(beta_s,bet_s)\\\n",
    "        .subs(H_w,100).subs(k,l).subs(H_s,150)\n",
    "    da.append( complex(val) )"
   ]
  },
  {
   "cell_type": "code",
   "execution_count": 254,
   "metadata": {},
   "outputs": [
    {
     "name": "stderr",
     "output_type": "stream",
     "text": [
      "/Library/Frameworks/Python.framework/Versions/3.10/lib/python3.10/site-packages/matplotlib/cbook/__init__.py:1298: ComplexWarning: Casting complex values to real discards the imaginary part\n",
      "  return np.asarray(x, float)\n",
      "/Library/Frameworks/Python.framework/Versions/3.10/lib/python3.10/site-packages/matplotlib/cbook/__init__.py:1298: ComplexWarning: Casting complex values to real discards the imaginary part\n",
      "  return np.asarray(x, float)\n"
     ]
    },
    {
     "data": {
      "image/png": "[encoded data removed]",
      "text/plain": [
       "<Figure size 432x288 with 1 Axes>"
      ]
     },
     "metadata": {},
     "output_type": "display_data"
    }
   ],
   "source": [
    "import matplotlib.pyplot as plt\n",
    "fig,ax=plt.subplots()\n",
    "fig.patch.set_facecolor('w')\n",
    "da = np.array(da)\n",
    "plt.plot(ks[da>0], da[da>0] )\n",
    "plt.plot(ks[da<0], -da[da<0] )\n",
    "plt.yscale('log')\n",
    "plt.xscale('log')"
   ]
  },
  {
   "cell_type": "code",
   "execution_count": 330,
   "metadata": {},
   "outputs": [
    {
     "name": "stdout",
     "output_type": "stream",
     "text": [
      "0.0005179474679231213\n"
     ]
    }
   ],
   "source": [
    "da=[]\n",
    "ks = np.logspace(-5,-1,50)\n",
    "for l in ks:\n",
    "    omega = 1\n",
    "    c = omega/l\n",
    "    cs = 50\n",
    "    cp = 2000\n",
    "    cw = 1500\n",
    "    bet_s = np.sqrt(1 - (c/cs)**2 + 0j)\n",
    "    alph_s = np.sqrt(1 - (c/cp)**2 + 0j)\n",
    "    alph_w = np.sqrt(1 - (c/cw)**2 + 0j)\n",
    "    val = characteristic.subs(alpha_s,alph_s).subs(alpha_w,alph_w).subs(beta_s,bet_s)\\\n",
    "        .subs(H_w,100).subs(k,l).subs(H_s,150)\n",
    "    da.append( complex(val) )\n",
    "min_ind = np.argmin(np.abs(da))\n",
    "print(ks[min_ind])"
   ]
  },
  {
   "cell_type": "code",
   "execution_count": 332,
   "metadata": {},
   "outputs": [],
   "source": [
    "ksol=[]\n",
    "ks = np.logspace(-10,-1,50)\n",
    "omegas = np.linspace(0,1,10)\n",
    "for omega in omegas:\n",
    "    da=[]\n",
    "    for l in ks:\n",
    "        c = omega/l\n",
    "        cs = 100\n",
    "        cp = 1000\n",
    "        cw = 1500\n",
    "        bet_s = np.sqrt(1 - (c/cs)**2 + 0j)\n",
    "        alph_s = np.sqrt(1 - (c/cp)**2 + 0j)\n",
    "        alph_w = np.sqrt(1 - (c/cw)**2 + 0j)\n",
    "        val = characteristic.subs(alpha_s,alph_s).subs(alpha_w,alph_w).subs(beta_s,bet_s)\\\n",
    "            .subs(H_w,100).subs(k,l).subs(H_s,150)\n",
    "        da.append( complex(val) )\n",
    "    min_ind = np.argmin(np.abs(da))\n",
    "    ksol.append(ks[min_ind])"
   ]
  },
  {
   "cell_type": "code",
   "execution_count": 333,
   "metadata": {},
   "outputs": [
    {
     "data": {
      "text/plain": [
       "[<matplotlib.lines.Line2D at 0x117141f00>]"
      ]
     },
     "execution_count": 333,
     "metadata": {},
     "output_type": "execute_result"
    },
    {
     "data": {
      "image/png": "[encoded data removed]",
      "text/plain": [
       "<Figure size 432x288 with 1 Axes>"
      ]
     },
     "metadata": {
      "needs_background": "light"
     },
     "output_type": "display_data"
    }
   ],
   "source": [
    "plt.plot(ksol,omegas,'-o')"
   ]
  },
  {
   "cell_type": "code",
   "execution_count": null,
   "metadata": {},
   "outputs": [],
   "source": []
  }
 ],
 "metadata": {
  "kernelspec": {
   "display_name": "Python 3 (ipykernel)",
   "language": "python",
   "name": "python3"
  },
  "language_info": {
   "codemirror_mode": {
    "name": "ipython",
    "version": 3
   },
   "file_extension": ".py",
   "mimetype": "text/x-python",
   "name": "python",
   "nbconvert_exporter": "python",
   "pygments_lexer": "ipython3",
   "version": "3.10.1"
  }
 },
 "nbformat": 4,
 "nbformat_minor": 4
}
