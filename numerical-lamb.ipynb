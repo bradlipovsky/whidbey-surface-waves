{
 "cells": [
  {
   "cell_type": "code",
   "execution_count": 92,
   "metadata": {},
   "outputs": [
    {
     "name": "stderr",
     "output_type": "stream",
     "text": [
      "/Library/Frameworks/Python.framework/Versions/3.10/lib/python3.10/site-packages/matplotlib/cbook/__init__.py:1298: ComplexWarning: Casting complex values to real discards the imaginary part\n",
      "  return np.asarray(x, float)\n"
     ]
    },
    {
     "data": {
      "image/png": "[encoded data removed]",
      "text/plain": [
       "<Figure size 432x288 with 1 Axes>"
      ]
     },
     "metadata": {
      "needs_background": "light"
     },
     "output_type": "display_data"
    }
   ],
   "source": [
    "import numpy as np\n",
    "from numpy import sin, cos\n",
    "import matplotlib.pyplot as plt\n",
    "\n",
    "\n",
    "def M(xi,omega,H=100, cp = 1500, cs = 100):\n",
    "    alpha = ((omega/xi/cp)**2 - 1+0j)**(1/2)\n",
    "    beta = ( (omega/xi/cs)**2 - 1+0j )**(1/2)\n",
    "    k = (cp/cs)**2\n",
    "    \n",
    "    '''\n",
    "    I*(A*xi*sin(H*alpha) + B*cos(H*alpha) + beta*(C*cos(H*beta) - D*sin(H*beta)))\n",
    "    alpha*(A*cos(H*alpha) - B*sin(H*alpha)) + xi*(C*sin(H*beta) + D*cos(H*beta))\n",
    "    mu*(B*(2*alpha**2 - k**2*(alpha**2 + xi**2)) + 2*C*beta*xi)\n",
    "    I*mu*(2*A*alpha*xi - D*(beta**2 - xi**2))\n",
    "    '''\n",
    "    \n",
    "\n",
    "#     A*xi*sin(H*alpha)    + B*cos(H*alpha)                           + C*beta*cos(H*beta) - D*beta*sin(H*beta)\n",
    "#     A*alpha*cos(H*alpha) - B*alpha*sin(H*alpha)                     + C*xi*sin(H*beta)   + D*xi*cos(H*beta)\n",
    "#     A*0                  + B*(2*alpha**2 - k**2*(alpha**2 + xi**2)) + C*2*beta*xi        + 0\n",
    "#     A*2*alpha*xi         + 0                                        + 0                  - D*(beta**2 - xi**2)\n",
    "\n",
    "    \n",
    "    return np.array([\n",
    "    [xi*sin(H*alpha),      cos(H*alpha),                          beta*cos(H*beta),   - beta*sin(H*beta)],\n",
    "    [alpha*cos(H*alpha), - alpha*sin(H*alpha),                  + xi*sin(H*beta),     + xi*cos(H*beta) ],\n",
    "    [0,                  (2*alpha**2 - k**2*(alpha**2 + xi**2)),  2*beta*xi, 0],\n",
    "    [2*alpha*xi, 0, 0, - (beta**2 - xi**2)]\n",
    "])\n",
    "\n",
    "def obj(xi,omega):\n",
    "    return np.abs(np.linalg.det(M(xi,f)))\n",
    "\n",
    "from scipy.optimize import minimize\n",
    "\n",
    "m = minimize(lambda f: obj(xi, x0,\n",
    "flist = np.linspace(0.0,0.1,10000)\n",
    "disp = []\n",
    "for f in flist:\n",
    "    disp.append(  )\n",
    "disp=np.array(disp)\n",
    "\n",
    "plt.subplots()\n",
    "plt.plot(flist,disp)\n",
    "plt.ylim([-1e83,2e83])\n",
    "# plt.xlim([0,0.2])\n",
    "# plt.plot(flist[disp>0],np.abs(disp[disp>0]))\n",
    "# plt.plot(flist[disp<0],np.abs(disp[disp<0]))\n",
    "# plt.yscale('log')\n",
    "\n",
    "plt.show()"
   ]
  },
  {
   "cell_type": "code",
   "execution_count": null,
   "metadata": {},
   "outputs": [],
   "source": []
  }
 ],
 "metadata": {
  "kernelspec": {
   "display_name": "Python 3 (ipykernel)",
   "language": "python",
   "name": "python3"
  },
  "language_info": {
   "codemirror_mode": {
    "name": "ipython",
    "version": 3
   },
   "file_extension": ".py",
   "mimetype": "text/x-python",
   "name": "python",
   "nbconvert_exporter": "python",
   "pygments_lexer": "ipython3",
   "version": "3.10.1"
  }
 },
 "nbformat": 4,
 "nbformat_minor": 4
}
