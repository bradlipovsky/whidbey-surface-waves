{
 "cells": [
  {
   "cell_type": "code",
   "execution_count": 81,
   "metadata": {},
   "outputs": [],
   "source": [
    "import numpy as np\n",
    "from numpy import sin, cos\n",
    "import matplotlib.pyplot as plt\n",
    "\n",
    "\n",
    "def M(xi,omegas,H=100, cp = 1500, cs = 100):\n",
    "    \n",
    "    val = []\n",
    "    if type(omegas) == float:\n",
    "        omega = omegas\n",
    "        alpha = ((omega/xi/cp)**2 - 1+0j)**(1/2)\n",
    "        beta = ( (omega/xi/cs)**2 - 1+0j )**(1/2)\n",
    "        k = (cp/cs)**2\n",
    "\n",
    "        MAT = np.array([\n",
    "            [xi*sin(H*alpha),      cos(H*alpha),                          beta*cos(H*beta),   - beta*sin(H*beta)],\n",
    "            [alpha*cos(H*alpha), - alpha*sin(H*alpha),                  + xi*sin(H*beta),     + xi*cos(H*beta) ],\n",
    "            [0,                  (2*alpha**2 - k**2*(alpha**2 + xi**2)),  2*beta*xi, 0],\n",
    "            [2*alpha*xi, 0, 0, - (beta**2 - xi**2)]\n",
    "        ])\n",
    "        return MAT\n",
    "        \n",
    "    for omega in omegas:\n",
    "        alpha = ((omega/xi/cp)**2 - 1+0j)**(1/2)\n",
    "        beta = ( (omega/xi/cs)**2 - 1+0j )**(1/2)\n",
    "        k = (cp/cs)**2\n",
    "\n",
    "        MAT = np.array([\n",
    "            [xi*sin(H*alpha),      cos(H*alpha),                          beta*cos(H*beta),   - beta*sin(H*beta)],\n",
    "            [alpha*cos(H*alpha), - alpha*sin(H*alpha),                  + xi*sin(H*beta),     + xi*cos(H*beta) ],\n",
    "            [0,                  (2*alpha**2 - k**2*(alpha**2 + xi**2)),  2*beta*xi, 0],\n",
    "            [2*alpha*xi, 0, 0, - (beta**2 - xi**2)]\n",
    "        ])\n",
    "        val.append( MAT )\n",
    "    \n",
    "    return val\n",
    "\n"
   ]
  },
  {
   "cell_type": "code",
   "execution_count": 84,
   "metadata": {},
   "outputs": [
    {
     "data": {
      "text/plain": [
       "array([], dtype=float64)"
      ]
     },
     "execution_count": 84,
     "metadata": {},
     "output_type": "execute_result"
    }
   ],
   "source": [
    "from scipy.optimize import minimize, minimize_scalar,brentq\n",
    "import numpy as np\n",
    "\n",
    "xis = np.array([0.001,0.001])\n",
    "oms = []\n",
    "\n",
    "om0= [0.0559485,0.0615]\n",
    "\n",
    "for xi,start in zip(xis,om0):\n",
    "\n",
    "    def obj (f): \n",
    "        # return np.abs(np.linalg.det(M(xi,f)))\n",
    "        return np.linalg.det(M(xi,f))\n",
    "\n",
    "    # m = minimize(obj, start,method='SLSQP') # tried: Nelder-Mead\n",
    "    m = brentq(obj,0.04,0.06)\n",
    "    # oms.append(m.x)\n",
    "    \n",
    "oms = np.array(oms)\n",
    "oms"
   ]
  },
  {
   "cell_type": "code",
   "execution_count": 85,
   "metadata": {},
   "outputs": [
    {
     "data": {
      "text/plain": [
       "(-1.6066589375737656e+87+1.944125600974267e+73j)"
      ]
     },
     "execution_count": 85,
     "metadata": {},
     "output_type": "execute_result"
    }
   ],
   "source": [
    "obj(0.04)"
   ]
  },
  {
   "cell_type": "code",
   "execution_count": 58,
   "metadata": {},
   "outputs": [
    {
     "ename": "NameError",
     "evalue": "name 'f' is not defined",
     "output_type": "error",
     "traceback": [
      "\u001b[0;31m-----------------------------------------------------------------------\u001b[0m",
      "\u001b[0;31mNameError\u001b[0m                             Traceback (most recent call last)",
      "Cell \u001b[0;32mIn [61], line 7\u001b[0m\n\u001b[1;32m      5\u001b[0m disp \u001b[38;5;241m=\u001b[39m []\n\u001b[1;32m      6\u001b[0m \u001b[38;5;28;01mfor\u001b[39;00m ff \u001b[38;5;129;01min\u001b[39;00m flist:\n\u001b[0;32m----> 7\u001b[0m     disp\u001b[38;5;241m.\u001b[39mappend( np\u001b[38;5;241m.\u001b[39mabs(np\u001b[38;5;241m.\u001b[39mlinalg\u001b[38;5;241m.\u001b[39mdet(M(xi,f))) ) \n\u001b[1;32m      8\u001b[0m disp\u001b[38;5;241m=\u001b[39mnp\u001b[38;5;241m.\u001b[39marray(disp)\n\u001b[1;32m     11\u001b[0m plt\u001b[38;5;241m.\u001b[39mplot(flist,np\u001b[38;5;241m.\u001b[39mabs(disp))\n",
      "\u001b[0;31mNameError\u001b[0m: name 'f' is not defined"
     ]
    },
    {
     "data": {
      "image/png": "[encoded data removed]",
      "text/plain": [
       "<Figure size 1152x648 with 1 Axes>"
      ]
     },
     "metadata": {
      "needs_background": "light"
     },
     "output_type": "display_data"
    }
   ],
   "source": [
    "flist = np.linspace(0.06,0.065,10000)\n",
    "plt.subplots(figsize=(16,9))\n",
    "\n",
    "for kk in (0.001,0.0011):\n",
    "    disp = []\n",
    "    for ff in flist:\n",
    "        disp.append( np.linalg.det(M(kk,[ff]))) \n",
    "    disp=np.array(disp)\n",
    "\n",
    "    \n",
    "    plt.plot(flist,np.abs(disp))\n",
    "    plt.ylim([-1e83,1e83])\n",
    "    # plt.xlim([0.0558,0.056])\n",
    "plt.grid()\n",
    "# plt.plot(flist[disp>0],np.abs(disp[disp>0]))\n",
    "# plt.plot(flist[disp<0],np.abs(disp[disp<0]))\n",
    "# plt.yscale('log')\n",
    "\n",
    "plt.show()"
   ]
  },
  {
   "cell_type": "code",
   "execution_count": null,
   "metadata": {},
   "outputs": [],
   "source": []
  }
 ],
 "metadata": {
  "kernelspec": {
   "display_name": "Python 3",
   "language": "python",
   "name": "python3"
  },
  "language_info": {
   "codemirror_mode": {
    "name": "ipython",
    "version": 3
   },
   "file_extension": ".py",
   "mimetype": "text/x-python",
   "name": "python",
   "nbconvert_exporter": "python",
   "pygments_lexer": "ipython3",
   "version": "3.9.13"
  }
 },
 "nbformat": 4,
 "nbformat_minor": 4
}
